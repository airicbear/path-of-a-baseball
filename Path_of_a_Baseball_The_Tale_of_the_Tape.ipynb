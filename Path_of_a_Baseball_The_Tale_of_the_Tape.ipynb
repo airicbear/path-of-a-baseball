{
 "cells": [
  {
   "cell_type": "markdown",
   "metadata": {},
   "source": [
    "Eric Nguyen  \n",
    "Calculus and Its Applications, 9th Edition (pg. 194)"
   ]
  },
  {
   "cell_type": "markdown",
   "metadata": {},
   "source": [
    "## Extended Technology Application\n",
    "\n",
    "# Path of a Baseball: The Tale of the Tape\n",
    "\n",
    "Have you ever watched a baseball game and seen a home run ball hit an obstruction after it has cleared the fence? Suppose the ball hits a sign at a location that is 60 ft above the ground at a distance of 400 ft from home plate. An announcer or message on the scoreboard might proclaim, \"According to the tale of the tape, the ball would have traveled 442 ft.\" How is such a calculation made? The answer is related to the curve formed by the path of a baseball.  \n",
    "&emsp; Whatever the path of a well-hit baseball is, it is *not* the graph of a parabola,\n",
    "\n",
    "> $f(x) =  ax^2 + bx +c$.\n",
    "\n",
    "A well-hit baseball follows the path of a \"skewed\" parabola, as shown at the right below. One reason that the ball's flight is not parabolic is that a well-hit ball has backspin. This fact, combined with the frictional effect of the ball's stitches with the air, skews the path of the ball in the direction of its landing.\n",
    "\n",
    "Let's see if we can model the path of a baseball. Consider the following data.\n",
    "\n",
    "| Horizontal Distance, $x$ (in feet) | Vertical Distance, $y$ (in feet) |\n",
    "| :---: | :---: |\n",
    "| 0 | 4.5 |\n",
    "| 50 | 43 |\n",
    "| 100 | 82 |\n",
    "| 200 | 130 |\n",
    "| 285 | 142 |\n",
    "| 300 | 134 |\n",
    "| 360 | 100 |\n",
    "| 400 | 60 |\n",
    "\n",
    "Assume for the given data that (0, 4.5) is the point at home plate at which the ball is hit, roughly 4.5 ft off the ground. Also, assume that the ball has hit a billboard 60 ft above the ground and 400 ft from home plate."
   ]
  },
  {
   "cell_type": "markdown",
   "metadata": {},
   "source": [
    "## EXERCISES\n",
    "\n",
    "## 1. Plot the points and connect them with line segments. This can be done on many calculators by pressing `STAT PLOT`, turning on `PLOT`, and selecting the appropriate type."
   ]
  },
  {
   "cell_type": "code",
   "execution_count": 39,
   "metadata": {},
   "outputs": [
    {
     "data": {
      "image/png": "[encoded data removed]",
      "text/plain": [
       "plot without title"
      ]
     },
     "metadata": {},
     "output_type": "display_data"
    }
   ],
   "source": [
    "distance.feet.x <- c(0, 50, 100, 200, 285, 300, 360, 400)\n",
    "distance.feet.y <- c(4.5, 43, 82, 130, 143, 134, 100, 60)\n",
    "distance.feet <- data.frame(distance.feet.x, distance.feet.y)\n",
    "options(repr.plot.width=10, repr.plot.height=7)\n",
    "plot(distance.feet, xlim=c(0,500), ylim=c(0,160))\n",
    "lines(distance.feet)"
   ]
  },
  {
   "cell_type": "markdown",
   "metadata": {},
   "source": [
    "## 2. Cubic Function: $y = ax^3 + bx^2 + cx + d$\n",
    "\n",
    "### **2a)** Use `REGRESSION` to find cubic function\n",
    "\n",
    "> $y = ax^3 + bx^2 + cx + d$\n",
    "\n",
    "&emsp; that fits the data."
   ]
  },
  {
   "cell_type": "code",
   "execution_count": 2,
   "metadata": {},
   "outputs": [
    {
     "name": "stdout",
     "output_type": "stream",
     "text": [
      "\n",
      "Call:\n",
      "lm(formula = distance.feet.y ~ distance.feet.x + I(distance.feet.x^2) + \n",
      "    I(distance.feet.x^3))\n",
      "\n",
      "Coefficients:\n",
      "         (Intercept)       distance.feet.x  I(distance.feet.x^2)  \n",
      "           4.6399874             0.7769120             0.0002421  \n",
      "I(distance.feet.x^3)  \n",
      "          -0.0000046  \n",
      "\n"
     ]
    }
   ],
   "source": [
    "model1 <- lm(distance.feet.y ~ distance.feet.x + I(distance.feet.x^2) + I(distance.feet.x^3))\n",
    "print(model1)"
   ]
  },
  {
   "cell_type": "markdown",
   "metadata": {},
   "source": [
    "### **2b)** Graph the function over the interval [0, 500]"
   ]
  },
  {
   "cell_type": "code",
   "execution_count": 30,
   "metadata": {},
   "outputs": [
    {
     "data": {
      "image/png": "[encoded data removed]",
      "text/plain": [
       "plot without title"
      ]
     },
     "metadata": {},
     "output_type": "display_data"
    }
   ],
   "source": [
    "a.2 <- −0.0000046\n",
    "b.2 <- 0.0002421\n",
    "c.2 <- 0.7769120\n",
    "d.2 <- 4.6399874\n",
    "f.2 <- function (x) (a.2 * x^3 + b.2 * x^2 + c.2 * x + d.2)\n",
    "plot(distance.feet, xlim=c(0,500), ylim=c(0,160))\n",
    "plot(f.2, xlim=c(0,500), ylim=c(0,160), col=2, lwd=2, add=T)"
   ]
  },
  {
   "cell_type": "markdown",
   "metadata": {},
   "source": [
    "### **2c)** Does the function closely model the given data?"
   ]
  },
  {
   "cell_type": "markdown",
   "metadata": {},
   "source": [
    "Yes, the function does closely model the given data. It closely matches the starting and end points $f(0)$ and $f(400)$."
   ]
  },
  {
   "cell_type": "markdown",
   "metadata": {},
   "source": [
    "### **2d)** Predict the horizontal distance from home plate at which the ball would have hit the ground had it not hit the billboard."
   ]
  },
  {
   "cell_type": "markdown",
   "metadata": {},
   "source": [
    "$f(x) = -0.0000046x^3 + 0.0002421x^2 + 0.7769120x + 4.6399874$  \n",
    "$0 = -0.0000046x^3 + 0.0002421x^2 + 0.7769120x + 4.6399874$"
   ]
  },
  {
   "cell_type": "code",
   "execution_count": 29,
   "metadata": {},
   "outputs": [
    {
     "name": "stdout",
     "output_type": "stream",
     "text": [
      "[1] -385.4935  438.1239\n",
      "[1] 4.639987 4.639987\n",
      "[1] 0 0\n"
     ]
    }
   ],
   "source": [
    "quadratic.formula <- function (a, b, c) {\n",
    "    result1 = (-b + sqrt(b^2 - (4 * a * c))) / (2 * a)\n",
    "    result2 = (-b - sqrt(b^2 - (4 * a * c))) / (2 * a)\n",
    "    return(c(result1, result2))\n",
    "}\n",
    "results.2 <- quadratic.formula(a.2, b.2, c.2)\n",
    "print(results.2)\n",
    "print(f.2(results.2))\n",
    "print(round(f.2(results.2) - d.2))"
   ]
  },
  {
   "cell_type": "markdown",
   "metadata": {},
   "source": [
    "The horizontal distance from the home plate at which the ball would have hit the ground had it not hit the billboard, given by the cubic model, is 440.892 feet."
   ]
  },
  {
   "cell_type": "markdown",
   "metadata": {},
   "source": [
    "### **2e)** Find the rate of change of the ball's height with respect to its horizontal distance from home plate."
   ]
  },
  {
   "cell_type": "markdown",
   "metadata": {},
   "source": [
    "$f(x)=−0.0000046x^3+0.0002421x^2+0.7769120^x+4.6399874$  \n",
    "$f'(x)=-0.0000138x^2+0.0004842x+0.7769120$"
   ]
  },
  {
   "cell_type": "code",
   "execution_count": 89,
   "metadata": {},
   "outputs": [
    {
     "data": {
      "image/png": "[encoded data removed]",
      "text/plain": [
       "plot without title"
      ]
     },
     "metadata": {},
     "output_type": "display_data"
    }
   ],
   "source": [
    "da.2 <- -0.0000138\n",
    "db.2 <- 0.0004842\n",
    "dc.2 <- 0.7769120\n",
    "df.2 <- function (x) (da.2 * x^2 + db.2 * x + dc.2)\n",
    "plot(distance.feet, xlim=c(0,500), ylim=c(0,160))\n",
    "plot(f.2, xlim=c(0,500), ylim=c(0,160), add=T)\n",
    "plot(df.2, xlim=c(0,500), ylim=c(0,160), col=2, lwd=2, add=T)"
   ]
  },
  {
   "cell_type": "markdown",
   "metadata": {},
   "source": [
    "### **f)** Find the point(s) at which the graph has a horizontal tangent line. Explain the significance of the point(s)."
   ]
  },
  {
   "cell_type": "code",
   "execution_count": 45,
   "metadata": {},
   "outputs": [
    {
     "name": "stdout",
     "output_type": "stream",
     "text": [
      "[1] -220.3761  255.4631\n",
      "[1] -105.5827  142.2215\n"
     ]
    }
   ],
   "source": [
    "results.2 <- quadratic.formula(da.2, db.2, dc.2)\n",
    "print(results.2)\n",
    "print(c(f.2(results.2[1]), f.2(results.2[2])))"
   ]
  },
  {
   "cell_type": "markdown",
   "metadata": {},
   "source": [
    "The points at which the graph has a horizontal tangent line are $(-220.3761, -105.5827)$ and $(255.4631, 142.2215)$."
   ]
  },
  {
   "cell_type": "markdown",
   "metadata": {},
   "source": [
    "## 3. Quartic Function: $y = ax^4 + bx^3 + cx^2 + dx + e$\n",
    "\n",
    "**a)** Use `REGRESSION` to find a quartic function\n",
    "\n",
    "> $y = ax^4 + bx^3 + cx^2 + dx + e$\n",
    "\n",
    "&emsp; that fits the data."
   ]
  },
  {
   "cell_type": "code",
   "execution_count": 6,
   "metadata": {},
   "outputs": [
    {
     "name": "stdout",
     "output_type": "stream",
     "text": [
      "\n",
      "Call:\n",
      "lm(formula = distance.feet.y ~ distance.feet.x + I(distance.feet.x^2) + \n",
      "    I(distance.feet.x^3) + I(distance.feet.x^4))\n",
      "\n",
      "Coefficients:\n",
      "         (Intercept)       distance.feet.x  I(distance.feet.x^2)  \n",
      "           4.334e+00             8.118e-01            -2.310e-04  \n",
      "I(distance.feet.x^3)  I(distance.feet.x^4)  \n",
      "          -2.660e-06            -2.439e-09  \n",
      "\n"
     ]
    }
   ],
   "source": [
    "model.3 <- lm(distance.feet.y ~ distance.feet.x + I(distance.feet.x^2) + I(distance.feet.x^3) + I(distance.feet.x^4))\n",
    "print(model.3)"
   ]
  },
  {
   "cell_type": "markdown",
   "metadata": {},
   "source": [
    "> $f(x) = (-2.439\\cdot10^{-9})x^4 + (-2.660\\cdot10^{-6})x^3 + (-2.310\\cdot10^{-4}) + (8.118\\cdot10^{-1})x + 4.334$"
   ]
  },
  {
   "cell_type": "markdown",
   "metadata": {},
   "source": [
    "**b)** Graph the function over the interval [0, 500]."
   ]
  },
  {
   "cell_type": "code",
   "execution_count": 27,
   "metadata": {},
   "outputs": [
    {
     "data": {
      "image/png": "[encoded data removed]",
      "text/plain": [
       "plot without title"
      ]
     },
     "metadata": {},
     "output_type": "display_data"
    }
   ],
   "source": [
    "a.3 <- -2.439 * 10^-9\n",
    "b.3 <- -2.660 * 10^-6\n",
    "c.3 <- -2.310 * 10^-4\n",
    "d.3 <- 8.118 * 10^-1\n",
    "e.3 <- 4.334\n",
    "f.3 <- function (x) (a.3*x^4 + b.3*x^3 + c.3*x^2 + d.3*x + e.3)\n",
    "plot(distance.feet, xlim=c(0,500))\n",
    "plot(f.3, xlim=c(0,500), ylim=c(0,160), col=2, lwd=2, add=T)"
   ]
  },
  {
   "cell_type": "markdown",
   "metadata": {},
   "source": [
    "**c)** Does the function closely model the given data?"
   ]
  },
  {
   "cell_type": "code",
   "execution_count": 26,
   "metadata": {},
   "outputs": [
    {
     "name": "stdout",
     "output_type": "stream",
     "text": [
      "[1]  4.3340 59.4156\n"
     ]
    }
   ],
   "source": [
    "print(c(f.3(0), f.3(400)))"
   ]
  },
  {
   "cell_type": "markdown",
   "metadata": {},
   "source": [
    "Yes, the function closely models the given data considering that the starting and end points $f(0)$ and $f(400)$ closely match. The model looks like it fits graphically too."
   ]
  },
  {
   "cell_type": "markdown",
   "metadata": {},
   "source": [
    "**d)** Predict the horizontal distance from home plate at which the ball would have hit the ground had it not hit the billboard."
   ]
  },
  {
   "cell_type": "code",
   "execution_count": 10,
   "metadata": {},
   "outputs": [
    {
     "data": {
      "text/html": [
       "-0.000506258276008253"
      ],
      "text/latex": [
       "-0.000506258276008253"
      ],
      "text/markdown": [
       "-0.000506258276008253"
      ],
      "text/plain": [
       "[1] -0.0005062583"
      ]
     },
     "metadata": {},
     "output_type": "display_data"
    }
   ],
   "source": [
    "f.3(439.319)"
   ]
  },
  {
   "cell_type": "markdown",
   "metadata": {},
   "source": [
    "The horizontal distance from the home plate at which the ball would have hit the ground had it not hit the billboard, given by the quartic model, is 439.319 feet."
   ]
  },
  {
   "cell_type": "markdown",
   "metadata": {},
   "source": [
    "### **e)** Find the rate of change of the ball's height with respect to its horizontal distance from home plate."
   ]
  },
  {
   "cell_type": "markdown",
   "metadata": {},
   "source": [
    "> $f'(x)=(-9.756\\cdot10^{-9})x^3-0.00000798x^2-0.000462x+0.8118$"
   ]
  },
  {
   "cell_type": "code",
   "execution_count": 90,
   "metadata": {},
   "outputs": [
    {
     "data": {
      "image/png": "[encoded data removed]",
      "text/plain": [
       "plot without title"
      ]
     },
     "metadata": {},
     "output_type": "display_data"
    }
   ],
   "source": [
    "df.3 <- function (x) (-9.756 * 10^-9) * x^3 - 0.00000798 * x^2 - 0.000462 * x + 0.8118\n",
    "plot(distance.feet, xlim=c(0,500), ylim=c(0,160))\n",
    "plot(f.3, xlim=c(0,500), ylim=c(0,160), add=T)\n",
    "plot(df.3, xlim=c(0,500), ylim=c(0,160), col=2, lwd=2, add=T)"
   ]
  },
  {
   "cell_type": "markdown",
   "metadata": {},
   "source": [
    "### **f)** Find the point(s) at which the graph has a horizontal tangent line. Explain the significance of the point(s)."
   ]
  },
  {
   "cell_type": "markdown",
   "metadata": {},
   "source": [
    "$(257.06, 141.917)$"
   ]
  },
  {
   "cell_type": "markdown",
   "metadata": {},
   "source": [
    "## 4. $y = 0.0015x\\sqrt{202500 - x^2}$\n",
    "\n",
    "### **a)** Although most calculators cannot fit such a function to the data, assume that the equation\n",
    "\n",
    "> $y = 0.0015x\\sqrt{202500 - x^2}$\n",
    "\n",
    "has been found using some type of curve-fitting technique. Graph the function over the interval [0, 500]."
   ]
  },
  {
   "cell_type": "code",
   "execution_count": 11,
   "metadata": {},
   "outputs": [
    {
     "name": "stderr",
     "output_type": "stream",
     "text": [
      "Warning message in sqrt(202500 - x^2):\n",
      "\"NaNs produced\""
     ]
    },
    {
     "data": {
      "image/png": "[encoded data removed]",
      "text/plain": [
       "plot without title"
      ]
     },
     "metadata": {},
     "output_type": "display_data"
    }
   ],
   "source": [
    "f.4 <- function (x) 0.0015 * x * sqrt(202500 - x^2)\n",
    "plot(distance.feet, xlim=c(0, 500), ylim=c(0, 160))\n",
    "plot(f.4, xlim=c(0, 500), ylim=c(0, 160), col=2, lwd=2, add=T)"
   ]
  },
  {
   "cell_type": "markdown",
   "metadata": {},
   "source": [
    "### **b)** Predict the horizontal distance from home plate at which the ball would have hit the ground had it not hit the billboard."
   ]
  },
  {
   "cell_type": "code",
   "execution_count": 12,
   "metadata": {},
   "outputs": [
    {
     "data": {
      "text/html": [
       "0"
      ],
      "text/latex": [
       "0"
      ],
      "text/markdown": [
       "0"
      ],
      "text/plain": [
       "[1] 0"
      ]
     },
     "metadata": {},
     "output_type": "display_data"
    }
   ],
   "source": [
    "f.4(450)"
   ]
  },
  {
   "cell_type": "markdown",
   "metadata": {},
   "source": [
    "The horizontal distance from the home plate at which the ball would have hit the ground, given by the model,\n",
    "\n",
    "> $y=0.0015x\\sqrt{202500−x^2}$\n",
    "\n",
    "is 450 feet."
   ]
  },
  {
   "cell_type": "markdown",
   "metadata": {},
   "source": [
    "**c)** Find the rate of change of the ball's height with respect to its horizontal distance from home plate."
   ]
  },
  {
   "cell_type": "markdown",
   "metadata": {},
   "source": [
    "$y' = (0.0015x)(\\frac{-2x}{2 \\sqrt{202500 - x^2}}) + (\\sqrt{202500 - x^2})(0.0015)$  \n",
    "$y' = \\frac{-0.003x^2}{2 \\sqrt{202500-x^2}} + 0.0015 \\sqrt{202500 - x^2}$  \n",
    "$y' = \\frac{-0.003x^2}{2 \\sqrt{202500-x^2}} \\cdot \\frac{\\sqrt{202500-x^2}}{\\sqrt{202500-x^2}} + 0.0015 \\sqrt{202500 - x^2}$  \n",
    "$y' = \\frac{-0.003x^2 \\sqrt{202500-x^2}}{2(202500-x^2)} + 0.0015 \\sqrt{202500 - x^2}$  \n",
    "$y' = \\frac{-0.003x^2 \\sqrt{202500-x^2}}{405000 - 2x^2} + 0.0015 \\sqrt{202500 - x^2}$  "
   ]
  },
  {
   "cell_type": "code",
   "execution_count": 22,
   "metadata": {},
   "outputs": [
    {
     "name": "stderr",
     "output_type": "stream",
     "text": [
      "Warning message in sqrt(202500 - x^2):\n",
      "\"NaNs produced\"Warning message in sqrt(202500 - x^2):\n",
      "\"NaNs produced\"Warning message in sqrt(202500 - x^2):\n",
      "\"NaNs produced\""
     ]
    },
    {
     "data": {
      "image/png": "[encoded data removed]",
      "text/plain": [
       "plot without title"
      ]
     },
     "metadata": {},
     "output_type": "display_data"
    }
   ],
   "source": [
    "df.4 <- function (x) ((-0.003 * x^2 * sqrt(202500 - x^2)) / (405000 - 2 * x^2)) + 0.0015 * sqrt(202500 - x^2)\n",
    "plot(distance.feet, xlim=c(0, 500), ylim=c(0, 160))\n",
    "plot(f.4, xlim=c(0, 500), ylim=c(0, 160), lwd=2, add=T)\n",
    "plot(df.4, xlim=c(0, 500), ylim=c(0, 160), col=2, lwd=2, add=T)"
   ]
  },
  {
   "cell_type": "markdown",
   "metadata": {},
   "source": [
    "### **d)** Find the point(s) at which the graph has a horizontal tangent line. Explain the significance of the point(s)."
   ]
  },
  {
   "cell_type": "code",
   "execution_count": 34,
   "metadata": {},
   "outputs": [
    {
     "name": "stdout",
     "output_type": "stream",
     "text": [
      "[1] 0\n",
      "[1] 0\n",
      "[1] -151.875\n",
      "[1] 151.875\n"
     ]
    }
   ],
   "source": [
    "print(round(df.4(-318.198)))\n",
    "print(round(df.4(318.198)))\n",
    "print(f.4(-318.198))\n",
    "print(f.4(318.198))"
   ]
  },
  {
   "cell_type": "markdown",
   "metadata": {},
   "source": [
    "The points at which the graph has a horizontal tangent are $(-318.198, -151.875)$ and $(318.198, 151.875)$."
   ]
  },
  {
   "cell_type": "markdown",
   "metadata": {},
   "source": [
    "## 5. Compare the answers in Exercises 2(d), 3(d), and 4(b). Discuss the relative merits of using the quartic model in Exercise 3 with the model in Exercise 4 to make the prediction."
   ]
  },
  {
   "cell_type": "markdown",
   "metadata": {},
   "source": [
    "| Model | Prediction |\n",
    "| ----- | ---------- |\n",
    "| Cubic | 440.892 feet |\n",
    "| Quartic | 439.319 feet |\n",
    "| $0.0015x\\sqrt{202500 - x^2}$ | 450 feet |\n",
    "\n",
    "The quartic model seems to make a better prediction. It touches more points than the model in Exercise 4. Also, the quartic model is fitted to the plot, whereas the model in Exercise 4 is arbitrary."
   ]
  },
  {
   "cell_type": "markdown",
   "metadata": {},
   "source": [
    "**Tale of the tape.** &nbsp; Actually, scoreboard operators in the major leagues use different models to predict the distance that a home run ball would have traveled. The models are linear and are related to the trajectory of the ball, that is, how high the ball is hit."
   ]
  },
  {
   "cell_type": "markdown",
   "metadata": {},
   "source": [
    "&emsp; Suppose that a ball hits an obstruction $d$ feet horizontally from home plate at a height of $H$ feet. Then the estimated horizontal distance $D$ that the ball would have traveled, depending on its trajectory type, is\n",
    "\n",
    "> Low trajectory: $D = 1.1H + d$,  \n",
    "> Medium trajectory: $D = 0.7H + d$,  \n",
    "> Towering trajectory: $D = 0.5H + d$."
   ]
  },
  {
   "cell_type": "code",
   "execution_count": 75,
   "metadata": {},
   "outputs": [],
   "source": [
    "low.trajectory <- function (H, d=400) 1.1 * H + d\n",
    "medium.trajectory <- function (H, d=400) 0.7 * H + d\n",
    "towering.trajectory <- function (H, d=400) 0.5 * H + d"
   ]
  },
  {
   "cell_type": "markdown",
   "metadata": {},
   "source": [
    "## 6. For a ball striking an obstacle at $d = 400$ ft and $H = 60$ ft, estimate how far the ball would have traveled if it were following a low trajectory, or a medium trajectory, or a towering trajectory."
   ]
  },
  {
   "cell_type": "code",
   "execution_count": 81,
   "metadata": {},
   "outputs": [
    {
     "data": {
      "text/html": [
       "<ol class=list-inline>\n",
       "\t<li>466</li>\n",
       "\t<li>442</li>\n",
       "\t<li>430</li>\n",
       "</ol>\n"
      ],
      "text/latex": [
       "\\begin{enumerate*}\n",
       "\\item 466\n",
       "\\item 442\n",
       "\\item 430\n",
       "\\end{enumerate*}\n"
      ],
      "text/markdown": [
       "1. 466\n",
       "2. 442\n",
       "3. 430\n",
       "\n",
       "\n"
      ],
      "text/plain": [
       "[1] 466 442 430"
      ]
     },
     "metadata": {},
     "output_type": "display_data"
    }
   ],
   "source": [
    "result.6 <- c(low.trajectory(H=60, d=400), medium.trajectory(H=60, d=400), towering.trajectory(H=60, d=400))\n",
    "result.6"
   ]
  },
  {
   "cell_type": "markdown",
   "metadata": {},
   "source": [
    "For the following trajectories, the ball would have traveled:\n",
    "\n",
    "> Low trajectory: 466 ft  \n",
    "> Medium trajectory: 442 ft  \n",
    "> Towering trajectory: 430 ft"
   ]
  },
  {
   "cell_type": "markdown",
   "metadata": {},
   "source": [
    "## 7. In 1953, Hall-of-Famer Mickey Mantle hit a towering home run in old Griffith Stadium in Washington, D.C., that hit an obstruction 60 ft high and 460 ft from home plate. Reporters asserted at the time that the ball would have traveled 565 ft. Is this estimate valid?"
   ]
  },
  {
   "cell_type": "code",
   "execution_count": 87,
   "metadata": {},
   "outputs": [
    {
     "data": {
      "text/html": [
       "490"
      ],
      "text/latex": [
       "490"
      ],
      "text/markdown": [
       "490"
      ],
      "text/plain": [
       "[1] 490"
      ]
     },
     "metadata": {},
     "output_type": "display_data"
    }
   ],
   "source": [
    "towering.trajectory(H=60, d=460)"
   ]
  },
  {
   "cell_type": "markdown",
   "metadata": {},
   "source": [
    "This estimate is not valid, according to my calculations. $490 \\neq 565$."
   ]
  }
 ],
 "metadata": {
  "kernelspec": {
   "display_name": "R",
   "language": "R",
   "name": "ir"
  },
  "language_info": {
   "codemirror_mode": "r",
   "file_extension": ".r",
   "mimetype": "text/x-r-source",
   "name": "R",
   "pygments_lexer": "r",
   "version": "3.5.1"
  }
 },
 "nbformat": 4,
 "nbformat_minor": 2
}
